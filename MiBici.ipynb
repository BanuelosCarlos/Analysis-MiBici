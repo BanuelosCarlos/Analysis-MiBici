{
 "cells": [
  {
   "cell_type": "code",
   "execution_count": 35,
   "metadata": {},
   "outputs": [],
   "source": [
    "import numpy as np\n",
    "import pandas as pd\n",
    "import matplotlib.pyplot as plt"
   ]
  },
  {
   "cell_type": "code",
   "execution_count": 36,
   "metadata": {},
   "outputs": [
    {
     "data": {
      "text/html": [
       "<div>\n",
       "<style scoped>\n",
       "    .dataframe tbody tr th:only-of-type {\n",
       "        vertical-align: middle;\n",
       "    }\n",
       "\n",
       "    .dataframe tbody tr th {\n",
       "        vertical-align: top;\n",
       "    }\n",
       "\n",
       "    .dataframe thead th {\n",
       "        text-align: right;\n",
       "    }\n",
       "</style>\n",
       "<table border=\"1\" class=\"dataframe\">\n",
       "  <thead>\n",
       "    <tr style=\"text-align: right;\">\n",
       "      <th></th>\n",
       "      <th>Viaje_Id</th>\n",
       "      <th>Usuario_Id</th>\n",
       "      <th>Genero</th>\n",
       "      <th>Año_de_nacimiento</th>\n",
       "      <th>Inicio_del_viaje</th>\n",
       "      <th>Fin_del_viaje</th>\n",
       "      <th>Origen_Id</th>\n",
       "      <th>Destino_Id</th>\n",
       "    </tr>\n",
       "  </thead>\n",
       "  <tbody>\n",
       "    <tr>\n",
       "      <th>0</th>\n",
       "      <td>4601</td>\n",
       "      <td>10324</td>\n",
       "      <td>M</td>\n",
       "      <td>NaN</td>\n",
       "      <td>2014-12-01 00:33:47</td>\n",
       "      <td>2014-12-01 00:36:54</td>\n",
       "      <td>47</td>\n",
       "      <td>47</td>\n",
       "    </tr>\n",
       "    <tr>\n",
       "      <th>1</th>\n",
       "      <td>4604</td>\n",
       "      <td>10324</td>\n",
       "      <td>M</td>\n",
       "      <td>NaN</td>\n",
       "      <td>2014-12-01 01:06:54</td>\n",
       "      <td>2014-12-01 01:08:45</td>\n",
       "      <td>5</td>\n",
       "      <td>5</td>\n",
       "    </tr>\n",
       "    <tr>\n",
       "      <th>2</th>\n",
       "      <td>4628</td>\n",
       "      <td>3</td>\n",
       "      <td>F</td>\n",
       "      <td>1990.0</td>\n",
       "      <td>2014-12-01 09:47:20</td>\n",
       "      <td>2014-12-01 09:47:47</td>\n",
       "      <td>79</td>\n",
       "      <td>79</td>\n",
       "    </tr>\n",
       "    <tr>\n",
       "      <th>3</th>\n",
       "      <td>4631</td>\n",
       "      <td>102</td>\n",
       "      <td>M</td>\n",
       "      <td>1982.0</td>\n",
       "      <td>2014-12-01 09:48:23</td>\n",
       "      <td>2014-12-01 09:48:37</td>\n",
       "      <td>79</td>\n",
       "      <td>79</td>\n",
       "    </tr>\n",
       "    <tr>\n",
       "      <th>4</th>\n",
       "      <td>4632</td>\n",
       "      <td>3</td>\n",
       "      <td>F</td>\n",
       "      <td>1990.0</td>\n",
       "      <td>2014-12-01 09:48:46</td>\n",
       "      <td>2014-12-01 09:48:57</td>\n",
       "      <td>79</td>\n",
       "      <td>79</td>\n",
       "    </tr>\n",
       "  </tbody>\n",
       "</table>\n",
       "</div>"
      ],
      "text/plain": [
       "   Viaje_Id  Usuario_Id Genero  Año_de_nacimiento     Inicio_del_viaje  \\\n",
       "0      4601       10324      M                NaN  2014-12-01 00:33:47   \n",
       "1      4604       10324      M                NaN  2014-12-01 01:06:54   \n",
       "2      4628           3      F             1990.0  2014-12-01 09:47:20   \n",
       "3      4631         102      M             1982.0  2014-12-01 09:48:23   \n",
       "4      4632           3      F             1990.0  2014-12-01 09:48:46   \n",
       "\n",
       "         Fin_del_viaje  Origen_Id  Destino_Id  \n",
       "0  2014-12-01 00:36:54         47          47  \n",
       "1  2014-12-01 01:08:45          5           5  \n",
       "2  2014-12-01 09:47:47         79          79  \n",
       "3  2014-12-01 09:48:37         79          79  \n",
       "4  2014-12-01 09:48:57         79          79  "
      ]
     },
     "execution_count": 36,
     "metadata": {},
     "output_type": "execute_result"
    }
   ],
   "source": [
    "df_bici = pd.read_csv('datos_abiertos_2014_12.csv')\n",
    "df_estaciones = pd.read_csv('nomenclatura_2022_08.csv', encoding = \"ISO-8859-1\")\n",
    "df_bici.head()\n"
   ]
  },
  {
   "cell_type": "code",
   "execution_count": 37,
   "metadata": {},
   "outputs": [
    {
     "data": {
      "text/html": [
       "<div>\n",
       "<style scoped>\n",
       "    .dataframe tbody tr th:only-of-type {\n",
       "        vertical-align: middle;\n",
       "    }\n",
       "\n",
       "    .dataframe tbody tr th {\n",
       "        vertical-align: top;\n",
       "    }\n",
       "\n",
       "    .dataframe thead th {\n",
       "        text-align: right;\n",
       "    }\n",
       "</style>\n",
       "<table border=\"1\" class=\"dataframe\">\n",
       "  <thead>\n",
       "    <tr style=\"text-align: right;\">\n",
       "      <th></th>\n",
       "      <th>id</th>\n",
       "      <th>name</th>\n",
       "      <th>obcn</th>\n",
       "      <th>location</th>\n",
       "      <th>latitude</th>\n",
       "      <th>longitude</th>\n",
       "      <th>status</th>\n",
       "    </tr>\n",
       "  </thead>\n",
       "  <tbody>\n",
       "    <tr>\n",
       "      <th>0</th>\n",
       "      <td>2</td>\n",
       "      <td>(GDL-001) C. Epigmenio Glez./ Av. 16 de Sept.</td>\n",
       "      <td>GDL-001</td>\n",
       "      <td>POLÍGONO CENTRAL</td>\n",
       "      <td>20.666378</td>\n",
       "      <td>-103.348820</td>\n",
       "      <td>IN_SERVICE</td>\n",
       "    </tr>\n",
       "    <tr>\n",
       "      <th>1</th>\n",
       "      <td>3</td>\n",
       "      <td>(GDL-002) C. Colonias  / Av.  Niños héroes</td>\n",
       "      <td>GDL-002</td>\n",
       "      <td>POLÍGONO CENTRAL</td>\n",
       "      <td>20.667228</td>\n",
       "      <td>-103.366000</td>\n",
       "      <td>IN_SERVICE</td>\n",
       "    </tr>\n",
       "    <tr>\n",
       "      <th>2</th>\n",
       "      <td>4</td>\n",
       "      <td>(GDL-003) C. Vidrio / Av. Chapultepec</td>\n",
       "      <td>GDL-003</td>\n",
       "      <td>POLÍGONO CENTRAL</td>\n",
       "      <td>20.667690</td>\n",
       "      <td>-103.368252</td>\n",
       "      <td>IN_SERVICE</td>\n",
       "    </tr>\n",
       "    <tr>\n",
       "      <th>3</th>\n",
       "      <td>5</td>\n",
       "      <td>(GDL-004) C. Ghilardi /C. Miraflores</td>\n",
       "      <td>GDL-004</td>\n",
       "      <td>POLÍGONO CENTRAL</td>\n",
       "      <td>20.691750</td>\n",
       "      <td>-103.362550</td>\n",
       "      <td>IN_SERVICE</td>\n",
       "    </tr>\n",
       "    <tr>\n",
       "      <th>4</th>\n",
       "      <td>6</td>\n",
       "      <td>(GDL-005) C. San Diego /Calzada Independencia</td>\n",
       "      <td>GDL-005</td>\n",
       "      <td>POLÍGONO CENTRAL</td>\n",
       "      <td>20.681151</td>\n",
       "      <td>-103.338863</td>\n",
       "      <td>IN_SERVICE</td>\n",
       "    </tr>\n",
       "  </tbody>\n",
       "</table>\n",
       "</div>"
      ],
      "text/plain": [
       "   id                                           name     obcn  \\\n",
       "0   2  (GDL-001) C. Epigmenio Glez./ Av. 16 de Sept.  GDL-001   \n",
       "1   3     (GDL-002) C. Colonias  / Av.  Niños héroes  GDL-002   \n",
       "2   4          (GDL-003) C. Vidrio / Av. Chapultepec  GDL-003   \n",
       "3   5           (GDL-004) C. Ghilardi /C. Miraflores  GDL-004   \n",
       "4   6  (GDL-005) C. San Diego /Calzada Independencia  GDL-005   \n",
       "\n",
       "           location   latitude   longitude      status  \n",
       "0  POLÍGONO CENTRAL  20.666378 -103.348820  IN_SERVICE  \n",
       "1  POLÍGONO CENTRAL  20.667228 -103.366000  IN_SERVICE  \n",
       "2  POLÍGONO CENTRAL  20.667690 -103.368252  IN_SERVICE  \n",
       "3  POLÍGONO CENTRAL  20.691750 -103.362550  IN_SERVICE  \n",
       "4  POLÍGONO CENTRAL  20.681151 -103.338863  IN_SERVICE  "
      ]
     },
     "execution_count": 37,
     "metadata": {},
     "output_type": "execute_result"
    }
   ],
   "source": [
    "df_estaciones.head()"
   ]
  },
  {
   "cell_type": "code",
   "execution_count": 38,
   "metadata": {},
   "outputs": [
    {
     "data": {
      "text/plain": [
       "Viaje_Id               0\n",
       "Usuario_Id             0\n",
       "Genero                 5\n",
       "Año_de_nacimiento    220\n",
       "Inicio_del_viaje       0\n",
       "Fin_del_viaje          0\n",
       "Origen_Id              0\n",
       "Destino_Id             0\n",
       "dtype: int64"
      ]
     },
     "execution_count": 38,
     "metadata": {},
     "output_type": "execute_result"
    }
   ],
   "source": [
    "df_bici.isnull().sum()"
   ]
  },
  {
   "cell_type": "code",
   "execution_count": 39,
   "metadata": {},
   "outputs": [
    {
     "data": {
      "text/html": [
       "<div>\n",
       "<style scoped>\n",
       "    .dataframe tbody tr th:only-of-type {\n",
       "        vertical-align: middle;\n",
       "    }\n",
       "\n",
       "    .dataframe tbody tr th {\n",
       "        vertical-align: top;\n",
       "    }\n",
       "\n",
       "    .dataframe thead th {\n",
       "        text-align: right;\n",
       "    }\n",
       "</style>\n",
       "<table border=\"1\" class=\"dataframe\">\n",
       "  <thead>\n",
       "    <tr style=\"text-align: right;\">\n",
       "      <th></th>\n",
       "      <th>Viaje_Id</th>\n",
       "      <th>Usuario_Id</th>\n",
       "      <th>Año_de_nacimiento</th>\n",
       "      <th>Origen_Id</th>\n",
       "      <th>Destino_Id</th>\n",
       "    </tr>\n",
       "  </thead>\n",
       "  <tbody>\n",
       "    <tr>\n",
       "      <th>count</th>\n",
       "      <td>23967.000000</td>\n",
       "      <td>23967.000000</td>\n",
       "      <td>23747.000000</td>\n",
       "      <td>23967.000000</td>\n",
       "      <td>23967.000000</td>\n",
       "    </tr>\n",
       "    <tr>\n",
       "      <th>mean</th>\n",
       "      <td>24274.527350</td>\n",
       "      <td>8364.778988</td>\n",
       "      <td>1981.969301</td>\n",
       "      <td>47.597864</td>\n",
       "      <td>47.228523</td>\n",
       "    </tr>\n",
       "    <tr>\n",
       "      <th>std</th>\n",
       "      <td>10237.985577</td>\n",
       "      <td>5261.300723</td>\n",
       "      <td>9.815592</td>\n",
       "      <td>23.652728</td>\n",
       "      <td>23.422110</td>\n",
       "    </tr>\n",
       "    <tr>\n",
       "      <th>min</th>\n",
       "      <td>4601.000000</td>\n",
       "      <td>3.000000</td>\n",
       "      <td>1944.000000</td>\n",
       "      <td>2.000000</td>\n",
       "      <td>2.000000</td>\n",
       "    </tr>\n",
       "    <tr>\n",
       "      <th>25%</th>\n",
       "      <td>15860.500000</td>\n",
       "      <td>3622.000000</td>\n",
       "      <td>1977.000000</td>\n",
       "      <td>28.000000</td>\n",
       "      <td>29.000000</td>\n",
       "    </tr>\n",
       "    <tr>\n",
       "      <th>50%</th>\n",
       "      <td>24394.000000</td>\n",
       "      <td>7516.000000</td>\n",
       "      <td>1984.000000</td>\n",
       "      <td>50.000000</td>\n",
       "      <td>50.000000</td>\n",
       "    </tr>\n",
       "    <tr>\n",
       "      <th>75%</th>\n",
       "      <td>32876.500000</td>\n",
       "      <td>12749.500000</td>\n",
       "      <td>1989.000000</td>\n",
       "      <td>66.000000</td>\n",
       "      <td>66.000000</td>\n",
       "    </tr>\n",
       "    <tr>\n",
       "      <th>max</th>\n",
       "      <td>42033.000000</td>\n",
       "      <td>20342.000000</td>\n",
       "      <td>1998.000000</td>\n",
       "      <td>88.000000</td>\n",
       "      <td>88.000000</td>\n",
       "    </tr>\n",
       "  </tbody>\n",
       "</table>\n",
       "</div>"
      ],
      "text/plain": [
       "           Viaje_Id    Usuario_Id  Año_de_nacimiento     Origen_Id  \\\n",
       "count  23967.000000  23967.000000       23747.000000  23967.000000   \n",
       "mean   24274.527350   8364.778988        1981.969301     47.597864   \n",
       "std    10237.985577   5261.300723           9.815592     23.652728   \n",
       "min     4601.000000      3.000000        1944.000000      2.000000   \n",
       "25%    15860.500000   3622.000000        1977.000000     28.000000   \n",
       "50%    24394.000000   7516.000000        1984.000000     50.000000   \n",
       "75%    32876.500000  12749.500000        1989.000000     66.000000   \n",
       "max    42033.000000  20342.000000        1998.000000     88.000000   \n",
       "\n",
       "         Destino_Id  \n",
       "count  23967.000000  \n",
       "mean      47.228523  \n",
       "std       23.422110  \n",
       "min        2.000000  \n",
       "25%       29.000000  \n",
       "50%       50.000000  \n",
       "75%       66.000000  \n",
       "max       88.000000  "
      ]
     },
     "execution_count": 39,
     "metadata": {},
     "output_type": "execute_result"
    }
   ],
   "source": [
    "df_bici.describe()"
   ]
  },
  {
   "cell_type": "code",
   "execution_count": 40,
   "metadata": {},
   "outputs": [],
   "source": [
    "from math import floor\n",
    "df_bici['Año_de_nacimiento'] = df_bici['Año_de_nacimiento'].fillna(floor(df_bici['Año_de_nacimiento'].mean()))"
   ]
  },
  {
   "cell_type": "code",
   "execution_count": 41,
   "metadata": {},
   "outputs": [],
   "source": [
    "df_bici = df_bici.dropna()"
   ]
  },
  {
   "cell_type": "code",
   "execution_count": 42,
   "metadata": {},
   "outputs": [
    {
     "data": {
      "text/plain": [
       "Viaje_Id             0\n",
       "Usuario_Id           0\n",
       "Genero               0\n",
       "Año_de_nacimiento    0\n",
       "Inicio_del_viaje     0\n",
       "Fin_del_viaje        0\n",
       "Origen_Id            0\n",
       "Destino_Id           0\n",
       "dtype: int64"
      ]
     },
     "execution_count": 42,
     "metadata": {},
     "output_type": "execute_result"
    }
   ],
   "source": [
    "df_bici.isnull().sum()"
   ]
  },
  {
   "cell_type": "code",
   "execution_count": 43,
   "metadata": {},
   "outputs": [
    {
     "name": "stderr",
     "output_type": "stream",
     "text": [
      "/tmp/ipykernel_24743/1218156629.py:2: SettingWithCopyWarning: \n",
      "A value is trying to be set on a copy of a slice from a DataFrame\n",
      "\n",
      "See the caveats in the documentation: https://pandas.pydata.org/pandas-docs/stable/user_guide/indexing.html#returning-a-view-versus-a-copy\n",
      "  df_estaciones.obcn[i] = i+1\n"
     ]
    }
   ],
   "source": [
    "for i in range(len(df_estaciones.obcn)):\n",
    "    df_estaciones.obcn[i] = i+1"
   ]
  },
  {
   "cell_type": "code",
   "execution_count": null,
   "metadata": {},
   "outputs": [],
   "source": []
  }
 ],
 "metadata": {
  "kernelspec": {
   "display_name": "Python 3.10.4 64-bit",
   "language": "python",
   "name": "python3"
  },
  "language_info": {
   "codemirror_mode": {
    "name": "ipython",
    "version": 3
   },
   "file_extension": ".py",
   "mimetype": "text/x-python",
   "name": "python",
   "nbconvert_exporter": "python",
   "pygments_lexer": "ipython3",
   "version": "3.10.4"
  },
  "orig_nbformat": 4,
  "vscode": {
   "interpreter": {
    "hash": "916dbcbb3f70747c44a77c7bcd40155683ae19c65e1c03b4aa3499c5328201f1"
   }
  }
 },
 "nbformat": 4,
 "nbformat_minor": 2
}
